{
 "cells": [
  {
   "cell_type": "markdown",
   "id": "17fb96d8",
   "metadata": {},
   "source": [
    "Nupat Super Store Data 2023"
   ]
  },
  {
   "cell_type": "code",
   "execution_count": 2,
   "id": "c8dd7866",
   "metadata": {},
   "outputs": [
    {
     "data": {
      "text/plain": [
       "'C:\\\\Users\\\\USER\\\\Desktop'"
      ]
     },
     "execution_count": 2,
     "metadata": {},
     "output_type": "execute_result"
    }
   ],
   "source": [
    "pwd"
   ]
  },
  {
   "cell_type": "code",
   "execution_count": 4,
   "id": "07a6d15c",
   "metadata": {},
   "outputs": [],
   "source": [
    "import pandas as pd\n",
    "import matplotlib.pyplot as plt"
   ]
  },
  {
   "cell_type": "code",
   "execution_count": 5,
   "id": "a5e32df5",
   "metadata": {},
   "outputs": [
    {
     "name": "stdout",
     "output_type": "stream",
     "text": [
      "     Order ID Customer Name           Category      Sub Category         City  \\\n",
      "0         OD1        Harish       Oil & Masala           Masalas      Vellore   \n",
      "1         OD2         Sudha          Beverages     Health Drinks  Krishnagiri   \n",
      "2         OD3       Hussain        Food Grains      Atta & Flour   Perambalur   \n",
      "3         OD4       Jackson   Fruits & Veggies  Fresh Vegetables   Dharmapuri   \n",
      "4         OD5       Ridhesh        Food Grains   Organic Staples         Ooty   \n",
      "...       ...           ...                ...               ...          ...   \n",
      "9989   OD9990        Sudeep  Eggs, Meat & Fish              Eggs      Madurai   \n",
      "9990   OD9991          Alan             Bakery          Biscuits  Kanyakumari   \n",
      "9991   OD9992          Ravi        Food Grains              Rice         Bodi   \n",
      "9992   OD9993          Peer       Oil & Masala            Spices   Pudukottai   \n",
      "9993   OD9994        Ganesh        Food Grains      Atta & Flour  Tirunelveli   \n",
      "\n",
      "      Order Date  Year Region  Sales  Discount  Profit       State  \\\n",
      "0      11/8/2017  2017  North   1254      0.12  401.28  Tamil Nadu   \n",
      "1      11/8/2017  2017  South    749      0.18  149.80  Tamil Nadu   \n",
      "2      6/12/2017  2017   West   2360      0.21  165.20  Tamil Nadu   \n",
      "3     10/11/2016  2016  South    896      0.25   89.60  Tamil Nadu   \n",
      "4     10/11/2016  2016  South   2355      0.26  918.45  Tamil Nadu   \n",
      "...          ...   ...    ...    ...       ...     ...         ...   \n",
      "9989  12/24/2015  2015   West    945      0.16  359.10  Tamil Nadu   \n",
      "9990   7/12/2015  2015   West   1195      0.26   71.70  Tamil Nadu   \n",
      "9991    6/6/2017  2017   West   1567      0.16  501.44  Tamil Nadu   \n",
      "9992  10/16/2018  2018   West   1659      0.15  597.24  Tamil Nadu   \n",
      "9993   4/17/2018  2018   West   1034      0.28  165.44  Tamil Nadu   \n",
      "\n",
      "      Unnamed: 12  Unnamed: 13  \n",
      "0             NaN          NaN  \n",
      "1             NaN          NaN  \n",
      "2             NaN          NaN  \n",
      "3             NaN          NaN  \n",
      "4             NaN          NaN  \n",
      "...           ...          ...  \n",
      "9989          NaN          NaN  \n",
      "9990          NaN          NaN  \n",
      "9991          NaN          NaN  \n",
      "9992          NaN          NaN  \n",
      "9993          NaN          NaN  \n",
      "\n",
      "[9994 rows x 14 columns]\n"
     ]
    }
   ],
   "source": [
    "ssd = pd.read_csv(\"Supermart Grocery Sales - Retail Dataset.csv\")\n",
    "print(ssd)"
   ]
  },
  {
   "cell_type": "code",
   "execution_count": 8,
   "id": "062f8502",
   "metadata": {},
   "outputs": [
    {
     "name": "stdout",
     "output_type": "stream",
     "text": [
      "     Order ID Customer Name           Category      Sub Category         City  \\\n",
      "0         OD1        Harish       Oil & Masala           Masalas      Vellore   \n",
      "1         OD2         Sudha          Beverages     Health Drinks  Krishnagiri   \n",
      "2         OD3       Hussain        Food Grains      Atta & Flour   Perambalur   \n",
      "3         OD4       Jackson   Fruits & Veggies  Fresh Vegetables   Dharmapuri   \n",
      "4         OD5       Ridhesh        Food Grains   Organic Staples         Ooty   \n",
      "...       ...           ...                ...               ...          ...   \n",
      "9989   OD9990        Sudeep  Eggs, Meat & Fish              Eggs      Madurai   \n",
      "9990   OD9991          Alan             Bakery          Biscuits  Kanyakumari   \n",
      "9991   OD9992          Ravi        Food Grains              Rice         Bodi   \n",
      "9992   OD9993          Peer       Oil & Masala            Spices   Pudukottai   \n",
      "9993   OD9994        Ganesh        Food Grains      Atta & Flour  Tirunelveli   \n",
      "\n",
      "      Order Date  Year Region  Sales  Discount  Profit       State  \n",
      "0      11/8/2017  2017  North   1254      0.12  401.28  Tamil Nadu  \n",
      "1      11/8/2017  2017  South    749      0.18  149.80  Tamil Nadu  \n",
      "2      6/12/2017  2017   West   2360      0.21  165.20  Tamil Nadu  \n",
      "3     10/11/2016  2016  South    896      0.25   89.60  Tamil Nadu  \n",
      "4     10/11/2016  2016  South   2355      0.26  918.45  Tamil Nadu  \n",
      "...          ...   ...    ...    ...       ...     ...         ...  \n",
      "9989  12/24/2015  2015   West    945      0.16  359.10  Tamil Nadu  \n",
      "9990   7/12/2015  2015   West   1195      0.26   71.70  Tamil Nadu  \n",
      "9991    6/6/2017  2017   West   1567      0.16  501.44  Tamil Nadu  \n",
      "9992  10/16/2018  2018   West   1659      0.15  597.24  Tamil Nadu  \n",
      "9993   4/17/2018  2018   West   1034      0.28  165.44  Tamil Nadu  \n",
      "\n",
      "[9994 rows x 12 columns]\n"
     ]
    }
   ],
   "source": [
    "ssd = ssd.drop(ssd.columns[12:14], axis = 1)\n",
    "print(ssd)"
   ]
  },
  {
   "cell_type": "code",
   "execution_count": 9,
   "id": "f1cad561",
   "metadata": {},
   "outputs": [
    {
     "data": {
      "text/html": [
       "<div>\n",
       "<style scoped>\n",
       "    .dataframe tbody tr th:only-of-type {\n",
       "        vertical-align: middle;\n",
       "    }\n",
       "\n",
       "    .dataframe tbody tr th {\n",
       "        vertical-align: top;\n",
       "    }\n",
       "\n",
       "    .dataframe thead th {\n",
       "        text-align: right;\n",
       "    }\n",
       "</style>\n",
       "<table border=\"1\" class=\"dataframe\">\n",
       "  <thead>\n",
       "    <tr style=\"text-align: right;\">\n",
       "      <th></th>\n",
       "      <th>Order ID</th>\n",
       "      <th>Customer Name</th>\n",
       "      <th>Category</th>\n",
       "      <th>Sub Category</th>\n",
       "      <th>City</th>\n",
       "      <th>Order Date</th>\n",
       "      <th>Year</th>\n",
       "      <th>Region</th>\n",
       "      <th>Sales</th>\n",
       "      <th>Discount</th>\n",
       "      <th>Profit</th>\n",
       "      <th>State</th>\n",
       "    </tr>\n",
       "  </thead>\n",
       "  <tbody>\n",
       "    <tr>\n",
       "      <th>0</th>\n",
       "      <td>OD1</td>\n",
       "      <td>Harish</td>\n",
       "      <td>Oil &amp; Masala</td>\n",
       "      <td>Masalas</td>\n",
       "      <td>Vellore</td>\n",
       "      <td>11/8/2017</td>\n",
       "      <td>2017</td>\n",
       "      <td>North</td>\n",
       "      <td>1254</td>\n",
       "      <td>0.12</td>\n",
       "      <td>401.28</td>\n",
       "      <td>Tamil Nadu</td>\n",
       "    </tr>\n",
       "    <tr>\n",
       "      <th>1</th>\n",
       "      <td>OD2</td>\n",
       "      <td>Sudha</td>\n",
       "      <td>Beverages</td>\n",
       "      <td>Health Drinks</td>\n",
       "      <td>Krishnagiri</td>\n",
       "      <td>11/8/2017</td>\n",
       "      <td>2017</td>\n",
       "      <td>South</td>\n",
       "      <td>749</td>\n",
       "      <td>0.18</td>\n",
       "      <td>149.80</td>\n",
       "      <td>Tamil Nadu</td>\n",
       "    </tr>\n",
       "    <tr>\n",
       "      <th>2</th>\n",
       "      <td>OD3</td>\n",
       "      <td>Hussain</td>\n",
       "      <td>Food Grains</td>\n",
       "      <td>Atta &amp; Flour</td>\n",
       "      <td>Perambalur</td>\n",
       "      <td>6/12/2017</td>\n",
       "      <td>2017</td>\n",
       "      <td>West</td>\n",
       "      <td>2360</td>\n",
       "      <td>0.21</td>\n",
       "      <td>165.20</td>\n",
       "      <td>Tamil Nadu</td>\n",
       "    </tr>\n",
       "    <tr>\n",
       "      <th>3</th>\n",
       "      <td>OD4</td>\n",
       "      <td>Jackson</td>\n",
       "      <td>Fruits &amp; Veggies</td>\n",
       "      <td>Fresh Vegetables</td>\n",
       "      <td>Dharmapuri</td>\n",
       "      <td>10/11/2016</td>\n",
       "      <td>2016</td>\n",
       "      <td>South</td>\n",
       "      <td>896</td>\n",
       "      <td>0.25</td>\n",
       "      <td>89.60</td>\n",
       "      <td>Tamil Nadu</td>\n",
       "    </tr>\n",
       "    <tr>\n",
       "      <th>4</th>\n",
       "      <td>OD5</td>\n",
       "      <td>Ridhesh</td>\n",
       "      <td>Food Grains</td>\n",
       "      <td>Organic Staples</td>\n",
       "      <td>Ooty</td>\n",
       "      <td>10/11/2016</td>\n",
       "      <td>2016</td>\n",
       "      <td>South</td>\n",
       "      <td>2355</td>\n",
       "      <td>0.26</td>\n",
       "      <td>918.45</td>\n",
       "      <td>Tamil Nadu</td>\n",
       "    </tr>\n",
       "  </tbody>\n",
       "</table>\n",
       "</div>"
      ],
      "text/plain": [
       "  Order ID Customer Name          Category      Sub Category         City  \\\n",
       "0      OD1        Harish      Oil & Masala           Masalas      Vellore   \n",
       "1      OD2         Sudha         Beverages     Health Drinks  Krishnagiri   \n",
       "2      OD3       Hussain       Food Grains      Atta & Flour   Perambalur   \n",
       "3      OD4       Jackson  Fruits & Veggies  Fresh Vegetables   Dharmapuri   \n",
       "4      OD5       Ridhesh       Food Grains   Organic Staples         Ooty   \n",
       "\n",
       "   Order Date  Year Region  Sales  Discount  Profit       State  \n",
       "0   11/8/2017  2017  North   1254      0.12  401.28  Tamil Nadu  \n",
       "1   11/8/2017  2017  South    749      0.18  149.80  Tamil Nadu  \n",
       "2   6/12/2017  2017   West   2360      0.21  165.20  Tamil Nadu  \n",
       "3  10/11/2016  2016  South    896      0.25   89.60  Tamil Nadu  \n",
       "4  10/11/2016  2016  South   2355      0.26  918.45  Tamil Nadu  "
      ]
     },
     "execution_count": 9,
     "metadata": {},
     "output_type": "execute_result"
    }
   ],
   "source": [
    "ssd.head()"
   ]
  },
  {
   "cell_type": "code",
   "execution_count": 11,
   "id": "b1d1f269",
   "metadata": {},
   "outputs": [
    {
     "data": {
      "text/plain": [
       "Order ID         0\n",
       "Customer Name    0\n",
       "Category         0\n",
       "Sub Category     0\n",
       "City             0\n",
       "Order Date       0\n",
       "Year             0\n",
       "Region           0\n",
       "Sales            0\n",
       "Discount         0\n",
       "Profit           0\n",
       "State            0\n",
       "dtype: int64"
      ]
     },
     "execution_count": 11,
     "metadata": {},
     "output_type": "execute_result"
    }
   ],
   "source": [
    "ssd.isna().sum()"
   ]
  },
  {
   "cell_type": "code",
   "execution_count": 14,
   "id": "38d5a2aa",
   "metadata": {},
   "outputs": [
    {
     "data": {
      "text/plain": [
       "Order ID          object\n",
       "Customer Name     object\n",
       "Category          object\n",
       "Sub Category      object\n",
       "City              object\n",
       "Order Date        object\n",
       "Year               int64\n",
       "Region            object\n",
       "Sales              int64\n",
       "Discount         float64\n",
       "Profit           float64\n",
       "State             object\n",
       "dtype: object"
      ]
     },
     "execution_count": 14,
     "metadata": {},
     "output_type": "execute_result"
    }
   ],
   "source": [
    "ssd.dtypes"
   ]
  },
  {
   "cell_type": "code",
   "execution_count": 15,
   "id": "5ea135c8",
   "metadata": {},
   "outputs": [],
   "source": [
    "ssd[\"profit_margin\"] = (ssd[\"Profit\"] / ssd[\"Sales\"]) * 100"
   ]
  },
  {
   "cell_type": "code",
   "execution_count": 16,
   "id": "e1af2ea2",
   "metadata": {},
   "outputs": [
    {
     "data": {
      "text/html": [
       "<div>\n",
       "<style scoped>\n",
       "    .dataframe tbody tr th:only-of-type {\n",
       "        vertical-align: middle;\n",
       "    }\n",
       "\n",
       "    .dataframe tbody tr th {\n",
       "        vertical-align: top;\n",
       "    }\n",
       "\n",
       "    .dataframe thead th {\n",
       "        text-align: right;\n",
       "    }\n",
       "</style>\n",
       "<table border=\"1\" class=\"dataframe\">\n",
       "  <thead>\n",
       "    <tr style=\"text-align: right;\">\n",
       "      <th></th>\n",
       "      <th>Order ID</th>\n",
       "      <th>Customer Name</th>\n",
       "      <th>Category</th>\n",
       "      <th>Sub Category</th>\n",
       "      <th>City</th>\n",
       "      <th>Order Date</th>\n",
       "      <th>Year</th>\n",
       "      <th>Region</th>\n",
       "      <th>Sales</th>\n",
       "      <th>Discount</th>\n",
       "      <th>Profit</th>\n",
       "      <th>State</th>\n",
       "      <th>profit_margin</th>\n",
       "    </tr>\n",
       "  </thead>\n",
       "  <tbody>\n",
       "    <tr>\n",
       "      <th>0</th>\n",
       "      <td>OD1</td>\n",
       "      <td>Harish</td>\n",
       "      <td>Oil &amp; Masala</td>\n",
       "      <td>Masalas</td>\n",
       "      <td>Vellore</td>\n",
       "      <td>11/8/2017</td>\n",
       "      <td>2017</td>\n",
       "      <td>North</td>\n",
       "      <td>1254</td>\n",
       "      <td>0.12</td>\n",
       "      <td>401.28</td>\n",
       "      <td>Tamil Nadu</td>\n",
       "      <td>32.0</td>\n",
       "    </tr>\n",
       "    <tr>\n",
       "      <th>1</th>\n",
       "      <td>OD2</td>\n",
       "      <td>Sudha</td>\n",
       "      <td>Beverages</td>\n",
       "      <td>Health Drinks</td>\n",
       "      <td>Krishnagiri</td>\n",
       "      <td>11/8/2017</td>\n",
       "      <td>2017</td>\n",
       "      <td>South</td>\n",
       "      <td>749</td>\n",
       "      <td>0.18</td>\n",
       "      <td>149.80</td>\n",
       "      <td>Tamil Nadu</td>\n",
       "      <td>20.0</td>\n",
       "    </tr>\n",
       "    <tr>\n",
       "      <th>2</th>\n",
       "      <td>OD3</td>\n",
       "      <td>Hussain</td>\n",
       "      <td>Food Grains</td>\n",
       "      <td>Atta &amp; Flour</td>\n",
       "      <td>Perambalur</td>\n",
       "      <td>6/12/2017</td>\n",
       "      <td>2017</td>\n",
       "      <td>West</td>\n",
       "      <td>2360</td>\n",
       "      <td>0.21</td>\n",
       "      <td>165.20</td>\n",
       "      <td>Tamil Nadu</td>\n",
       "      <td>7.0</td>\n",
       "    </tr>\n",
       "    <tr>\n",
       "      <th>3</th>\n",
       "      <td>OD4</td>\n",
       "      <td>Jackson</td>\n",
       "      <td>Fruits &amp; Veggies</td>\n",
       "      <td>Fresh Vegetables</td>\n",
       "      <td>Dharmapuri</td>\n",
       "      <td>10/11/2016</td>\n",
       "      <td>2016</td>\n",
       "      <td>South</td>\n",
       "      <td>896</td>\n",
       "      <td>0.25</td>\n",
       "      <td>89.60</td>\n",
       "      <td>Tamil Nadu</td>\n",
       "      <td>10.0</td>\n",
       "    </tr>\n",
       "    <tr>\n",
       "      <th>4</th>\n",
       "      <td>OD5</td>\n",
       "      <td>Ridhesh</td>\n",
       "      <td>Food Grains</td>\n",
       "      <td>Organic Staples</td>\n",
       "      <td>Ooty</td>\n",
       "      <td>10/11/2016</td>\n",
       "      <td>2016</td>\n",
       "      <td>South</td>\n",
       "      <td>2355</td>\n",
       "      <td>0.26</td>\n",
       "      <td>918.45</td>\n",
       "      <td>Tamil Nadu</td>\n",
       "      <td>39.0</td>\n",
       "    </tr>\n",
       "  </tbody>\n",
       "</table>\n",
       "</div>"
      ],
      "text/plain": [
       "  Order ID Customer Name          Category      Sub Category         City  \\\n",
       "0      OD1        Harish      Oil & Masala           Masalas      Vellore   \n",
       "1      OD2         Sudha         Beverages     Health Drinks  Krishnagiri   \n",
       "2      OD3       Hussain       Food Grains      Atta & Flour   Perambalur   \n",
       "3      OD4       Jackson  Fruits & Veggies  Fresh Vegetables   Dharmapuri   \n",
       "4      OD5       Ridhesh       Food Grains   Organic Staples         Ooty   \n",
       "\n",
       "   Order Date  Year Region  Sales  Discount  Profit       State  profit_margin  \n",
       "0   11/8/2017  2017  North   1254      0.12  401.28  Tamil Nadu           32.0  \n",
       "1   11/8/2017  2017  South    749      0.18  149.80  Tamil Nadu           20.0  \n",
       "2   6/12/2017  2017   West   2360      0.21  165.20  Tamil Nadu            7.0  \n",
       "3  10/11/2016  2016  South    896      0.25   89.60  Tamil Nadu           10.0  \n",
       "4  10/11/2016  2016  South   2355      0.26  918.45  Tamil Nadu           39.0  "
      ]
     },
     "execution_count": 16,
     "metadata": {},
     "output_type": "execute_result"
    }
   ],
   "source": [
    "ssd.head()"
   ]
  },
  {
   "cell_type": "code",
   "execution_count": 20,
   "id": "8e2372fa",
   "metadata": {},
   "outputs": [
    {
     "data": {
      "text/plain": [
       "<AxesSubplot:xlabel='Sub Category'>"
      ]
     },
     "execution_count": 20,
     "metadata": {},
     "output_type": "execute_result"
    },
    {
     "data": {
      "image/png": "[encoded data removed]",
      "text/plain": [
       "<Figure size 432x288 with 1 Axes>"
      ]
     },
     "metadata": {
      "needs_background": "light"
     },
     "output_type": "display_data"
    }
   ],
   "source": [
    "ssd.groupby(\"Sub Category\").sum()[\"profit_margin\"].sort_values(ascending = False).plot(kind = \"bar\")"
   ]
  },
  {
   "cell_type": "code",
   "execution_count": 24,
   "id": "b07a1895",
   "metadata": {},
   "outputs": [
    {
     "data": {
      "text/plain": [
       "<AxesSubplot:ylabel='Region'>"
      ]
     },
     "execution_count": 24,
     "metadata": {},
     "output_type": "execute_result"
    },
    {
     "data": {
      "image/png": "[encoded data removed]",
      "text/plain": [
       "<Figure size 432x288 with 1 Axes>"
      ]
     },
     "metadata": {
      "needs_background": "light"
     },
     "output_type": "display_data"
    }
   ],
   "source": [
    "ssd.groupby(\"Region\").sum()[\"Sales\"].sort_values(ascending = True).plot(kind = \"barh\")"
   ]
  },
  {
   "cell_type": "code",
   "execution_count": 26,
   "id": "3b5ef9c1",
   "metadata": {},
   "outputs": [
    {
     "name": "stdout",
     "output_type": "stream",
     "text": [
      "Region    Central       East   North     South       West\n",
      "Year                                                     \n",
      "2015     689710.0   773288.0     NaN  525032.0   987569.0\n",
      "2016     701119.0   970983.0     NaN  509161.0   950696.0\n",
      "2017     904462.0  1132477.0  1254.0  626838.0  1206881.0\n",
      "2018    1172865.0  1371620.0     NaN  779430.0  1653597.0\n"
     ]
    }
   ],
   "source": [
    "sales_year = ssd.pivot_table(index = \"Year\", columns = \"Region\", values = \"Sales\", aggfunc = \"sum\")\n",
    "print(sales_year)"
   ]
  },
  {
   "cell_type": "code",
   "execution_count": 27,
   "id": "26124067",
   "metadata": {},
   "outputs": [
    {
     "data": {
      "text/plain": [
       "<matplotlib.legend.Legend at 0x2107c836bb0>"
      ]
     },
     "execution_count": 27,
     "metadata": {},
     "output_type": "execute_result"
    },
    {
     "data": {
      "image/png": "[encoded data removed]",
      "text/plain": [
       "<Figure size 432x288 with 1 Axes>"
      ]
     },
     "metadata": {
      "needs_background": "light"
     },
     "output_type": "display_data"
    }
   ],
   "source": [
    "sales_year.plot(kind = 'barh', stacked=True, color = ['red','orange','yellow','green','blue'])\n",
    "plt.title('Total sales by year and region')\n",
    "plt.legend(loc='upper left', fontsize=9, bbox_to_anchor=(1, 0.5))"
   ]
  },
  {
   "cell_type": "code",
   "execution_count": 28,
   "id": "d04bffc4",
   "metadata": {},
   "outputs": [
    {
     "data": {
      "text/html": [
       "<div>\n",
       "<style scoped>\n",
       "    .dataframe tbody tr th:only-of-type {\n",
       "        vertical-align: middle;\n",
       "    }\n",
       "\n",
       "    .dataframe tbody tr th {\n",
       "        vertical-align: top;\n",
       "    }\n",
       "\n",
       "    .dataframe thead th {\n",
       "        text-align: right;\n",
       "    }\n",
       "</style>\n",
       "<table border=\"1\" class=\"dataframe\">\n",
       "  <thead>\n",
       "    <tr style=\"text-align: right;\">\n",
       "      <th></th>\n",
       "      <th>Order ID</th>\n",
       "      <th>Customer Name</th>\n",
       "      <th>Category</th>\n",
       "      <th>Sub Category</th>\n",
       "      <th>City</th>\n",
       "      <th>Order Date</th>\n",
       "      <th>Year</th>\n",
       "      <th>Region</th>\n",
       "      <th>Sales</th>\n",
       "      <th>Discount</th>\n",
       "      <th>Profit</th>\n",
       "      <th>State</th>\n",
       "      <th>profit_margin</th>\n",
       "    </tr>\n",
       "  </thead>\n",
       "  <tbody>\n",
       "    <tr>\n",
       "      <th>14</th>\n",
       "      <td>OD15</td>\n",
       "      <td>Sundar</td>\n",
       "      <td>Eggs, Meat &amp; Fish</td>\n",
       "      <td>Chicken</td>\n",
       "      <td>Kanyakumari</td>\n",
       "      <td>11/22/2016</td>\n",
       "      <td>2016</td>\n",
       "      <td>Central</td>\n",
       "      <td>831</td>\n",
       "      <td>0.22</td>\n",
       "      <td>207.75</td>\n",
       "      <td>Tamil Nadu</td>\n",
       "      <td>25.0</td>\n",
       "    </tr>\n",
       "    <tr>\n",
       "      <th>15</th>\n",
       "      <td>OD16</td>\n",
       "      <td>Ramesh</td>\n",
       "      <td>Oil &amp; Masala</td>\n",
       "      <td>Edible Oil &amp; Ghee</td>\n",
       "      <td>Krishnagiri</td>\n",
       "      <td>11/22/2016</td>\n",
       "      <td>2016</td>\n",
       "      <td>Central</td>\n",
       "      <td>1440</td>\n",
       "      <td>0.11</td>\n",
       "      <td>100.80</td>\n",
       "      <td>Tamil Nadu</td>\n",
       "      <td>7.0</td>\n",
       "    </tr>\n",
       "    <tr>\n",
       "      <th>16</th>\n",
       "      <td>OD17</td>\n",
       "      <td>Alan</td>\n",
       "      <td>Bakery</td>\n",
       "      <td>Cakes</td>\n",
       "      <td>Dharmapuri</td>\n",
       "      <td>11/11/2015</td>\n",
       "      <td>2015</td>\n",
       "      <td>Central</td>\n",
       "      <td>1678</td>\n",
       "      <td>0.28</td>\n",
       "      <td>318.82</td>\n",
       "      <td>Tamil Nadu</td>\n",
       "      <td>19.0</td>\n",
       "    </tr>\n",
       "    <tr>\n",
       "      <th>21</th>\n",
       "      <td>OD22</td>\n",
       "      <td>Alan</td>\n",
       "      <td>Food Grains</td>\n",
       "      <td>Dals &amp; Pulses</td>\n",
       "      <td>Karur</td>\n",
       "      <td>12/9/2017</td>\n",
       "      <td>2017</td>\n",
       "      <td>Central</td>\n",
       "      <td>948</td>\n",
       "      <td>0.13</td>\n",
       "      <td>47.40</td>\n",
       "      <td>Tamil Nadu</td>\n",
       "      <td>5.0</td>\n",
       "    </tr>\n",
       "    <tr>\n",
       "      <th>22</th>\n",
       "      <td>OD23</td>\n",
       "      <td>Haseena</td>\n",
       "      <td>Beverages</td>\n",
       "      <td>Soft Drinks</td>\n",
       "      <td>Krishnagiri</td>\n",
       "      <td>12/9/2017</td>\n",
       "      <td>2017</td>\n",
       "      <td>Central</td>\n",
       "      <td>707</td>\n",
       "      <td>0.34</td>\n",
       "      <td>148.47</td>\n",
       "      <td>Tamil Nadu</td>\n",
       "      <td>21.0</td>\n",
       "    </tr>\n",
       "    <tr>\n",
       "      <th>...</th>\n",
       "      <td>...</td>\n",
       "      <td>...</td>\n",
       "      <td>...</td>\n",
       "      <td>...</td>\n",
       "      <td>...</td>\n",
       "      <td>...</td>\n",
       "      <td>...</td>\n",
       "      <td>...</td>\n",
       "      <td>...</td>\n",
       "      <td>...</td>\n",
       "      <td>...</td>\n",
       "      <td>...</td>\n",
       "      <td>...</td>\n",
       "    </tr>\n",
       "    <tr>\n",
       "      <th>9855</th>\n",
       "      <td>OD9856</td>\n",
       "      <td>James</td>\n",
       "      <td>Fruits &amp; Veggies</td>\n",
       "      <td>Organic Fruits</td>\n",
       "      <td>Namakkal</td>\n",
       "      <td>7/14/2015</td>\n",
       "      <td>2015</td>\n",
       "      <td>Central</td>\n",
       "      <td>1168</td>\n",
       "      <td>0.19</td>\n",
       "      <td>221.92</td>\n",
       "      <td>Tamil Nadu</td>\n",
       "      <td>19.0</td>\n",
       "    </tr>\n",
       "    <tr>\n",
       "      <th>9856</th>\n",
       "      <td>OD9857</td>\n",
       "      <td>Yusuf</td>\n",
       "      <td>Oil &amp; Masala</td>\n",
       "      <td>Masalas</td>\n",
       "      <td>Pudukottai</td>\n",
       "      <td>3/8/2017</td>\n",
       "      <td>2017</td>\n",
       "      <td>Central</td>\n",
       "      <td>2322</td>\n",
       "      <td>0.10</td>\n",
       "      <td>348.30</td>\n",
       "      <td>Tamil Nadu</td>\n",
       "      <td>15.0</td>\n",
       "    </tr>\n",
       "    <tr>\n",
       "      <th>9857</th>\n",
       "      <td>OD9858</td>\n",
       "      <td>Vinne</td>\n",
       "      <td>Snacks</td>\n",
       "      <td>Cookies</td>\n",
       "      <td>Coimbatore</td>\n",
       "      <td>5/6/2018</td>\n",
       "      <td>2018</td>\n",
       "      <td>Central</td>\n",
       "      <td>2369</td>\n",
       "      <td>0.18</td>\n",
       "      <td>734.39</td>\n",
       "      <td>Tamil Nadu</td>\n",
       "      <td>31.0</td>\n",
       "    </tr>\n",
       "    <tr>\n",
       "      <th>9858</th>\n",
       "      <td>OD9859</td>\n",
       "      <td>Shree</td>\n",
       "      <td>Food Grains</td>\n",
       "      <td>Rice</td>\n",
       "      <td>Perambalur</td>\n",
       "      <td>8/23/2017</td>\n",
       "      <td>2017</td>\n",
       "      <td>Central</td>\n",
       "      <td>1448</td>\n",
       "      <td>0.15</td>\n",
       "      <td>289.60</td>\n",
       "      <td>Tamil Nadu</td>\n",
       "      <td>20.0</td>\n",
       "    </tr>\n",
       "    <tr>\n",
       "      <th>9859</th>\n",
       "      <td>OD9860</td>\n",
       "      <td>Hussain</td>\n",
       "      <td>Food Grains</td>\n",
       "      <td>Organic Staples</td>\n",
       "      <td>Kanyakumari</td>\n",
       "      <td>10/12/2018</td>\n",
       "      <td>2018</td>\n",
       "      <td>Central</td>\n",
       "      <td>1824</td>\n",
       "      <td>0.13</td>\n",
       "      <td>200.64</td>\n",
       "      <td>Tamil Nadu</td>\n",
       "      <td>11.0</td>\n",
       "    </tr>\n",
       "  </tbody>\n",
       "</table>\n",
       "<p>2323 rows × 13 columns</p>\n",
       "</div>"
      ],
      "text/plain": [
       "     Order ID Customer Name           Category       Sub Category  \\\n",
       "14       OD15        Sundar  Eggs, Meat & Fish            Chicken   \n",
       "15       OD16        Ramesh       Oil & Masala  Edible Oil & Ghee   \n",
       "16       OD17          Alan             Bakery              Cakes   \n",
       "21       OD22          Alan        Food Grains      Dals & Pulses   \n",
       "22       OD23       Haseena          Beverages        Soft Drinks   \n",
       "...       ...           ...                ...                ...   \n",
       "9855   OD9856         James   Fruits & Veggies     Organic Fruits   \n",
       "9856   OD9857         Yusuf       Oil & Masala            Masalas   \n",
       "9857   OD9858         Vinne             Snacks            Cookies   \n",
       "9858   OD9859         Shree        Food Grains               Rice   \n",
       "9859   OD9860       Hussain        Food Grains    Organic Staples   \n",
       "\n",
       "             City  Order Date  Year   Region  Sales  Discount  Profit  \\\n",
       "14    Kanyakumari  11/22/2016  2016  Central    831      0.22  207.75   \n",
       "15    Krishnagiri  11/22/2016  2016  Central   1440      0.11  100.80   \n",
       "16     Dharmapuri  11/11/2015  2015  Central   1678      0.28  318.82   \n",
       "21          Karur   12/9/2017  2017  Central    948      0.13   47.40   \n",
       "22    Krishnagiri   12/9/2017  2017  Central    707      0.34  148.47   \n",
       "...           ...         ...   ...      ...    ...       ...     ...   \n",
       "9855     Namakkal   7/14/2015  2015  Central   1168      0.19  221.92   \n",
       "9856   Pudukottai    3/8/2017  2017  Central   2322      0.10  348.30   \n",
       "9857   Coimbatore    5/6/2018  2018  Central   2369      0.18  734.39   \n",
       "9858   Perambalur   8/23/2017  2017  Central   1448      0.15  289.60   \n",
       "9859  Kanyakumari  10/12/2018  2018  Central   1824      0.13  200.64   \n",
       "\n",
       "           State  profit_margin  \n",
       "14    Tamil Nadu           25.0  \n",
       "15    Tamil Nadu            7.0  \n",
       "16    Tamil Nadu           19.0  \n",
       "21    Tamil Nadu            5.0  \n",
       "22    Tamil Nadu           21.0  \n",
       "...          ...            ...  \n",
       "9855  Tamil Nadu           19.0  \n",
       "9856  Tamil Nadu           15.0  \n",
       "9857  Tamil Nadu           31.0  \n",
       "9858  Tamil Nadu           20.0  \n",
       "9859  Tamil Nadu           11.0  \n",
       "\n",
       "[2323 rows x 13 columns]"
      ]
     },
     "execution_count": 28,
     "metadata": {},
     "output_type": "execute_result"
    }
   ],
   "source": [
    "ssd[ssd[\"Region\"] == \"Central\"]"
   ]
  },
  {
   "cell_type": "code",
   "execution_count": 31,
   "id": "87fed7bd",
   "metadata": {},
   "outputs": [
    {
     "name": "stdout",
     "output_type": "stream",
     "text": [
      "                Sales    Profit\n",
      "Customer Name                  \n",
      "Krithika       334361  85633.03\n",
      "Amrish         333351  80191.89\n",
      "Verma          331665  79096.53\n",
      "Arutra         325720  87572.40\n",
      "Vidya          321798  86725.64\n",
      "Vinne          319565  79873.12\n",
      "Shah           318588  73786.22\n",
      "Suresh         315973  77450.88\n",
      "Adavan         315341  78044.29\n",
      "Surya          312645  80996.85\n"
     ]
    }
   ],
   "source": [
    "tot_rev = ssd.groupby('Customer Name').sum()[['Sales','Profit']].sort_values(ascending = False, by = 'Sales').head(10)\n",
    "print(tot_rev)"
   ]
  },
  {
   "cell_type": "code",
   "execution_count": 34,
   "id": "90c3d7c5",
   "metadata": {},
   "outputs": [
    {
     "data": {
      "text/plain": [
       "<AxesSubplot:xlabel='Customer Name'>"
      ]
     },
     "execution_count": 34,
     "metadata": {},
     "output_type": "execute_result"
    },
    {
     "data": {
      "image/png": "[encoded data removed]",
      "text/plain": [
       "<Figure size 432x288 with 1 Axes>"
      ]
     },
     "metadata": {
      "needs_background": "light"
     },
     "output_type": "display_data"
    }
   ],
   "source": [
    "tot_rev.plot(kind = 'bar', stacked= True, color = ['red','green'])\n"
   ]
  },
  {
   "cell_type": "code",
   "execution_count": 59,
   "id": "a5365d87",
   "metadata": {},
   "outputs": [
    {
     "name": "stdout",
     "output_type": "stream",
     "text": [
      "                      Profit\n",
      "Category                    \n",
      "Snacks             568178.85\n",
      "Eggs, Meat & Fish  567357.22\n",
      "Fruits & Veggies   530400.38\n",
      "Food Grains        529162.64\n",
      "Bakery             528521.06\n",
      "Beverages          525605.76\n",
      "Oil & Masala       497895.29\n"
     ]
    }
   ],
   "source": [
    "#top 10 category by profit\n",
    "profit_catery = ssd.groupby(\"Category\").sum()[[\"Profit\"]].sort_values(ascending = False, by = \"Profit\").head(10)\n",
    "print(profit_catery)"
   ]
  },
  {
   "cell_type": "code",
   "execution_count": 60,
   "id": "0567cf05",
   "metadata": {},
   "outputs": [
    {
     "data": {
      "text/plain": [
       "Text(0.5, 1.0, 'top 10 category by profit')"
      ]
     },
     "execution_count": 60,
     "metadata": {},
     "output_type": "execute_result"
    },
    {
     "data": {
      "image/png": "[encoded data removed]",
      "text/plain": [
       "<Figure size 432x288 with 1 Axes>"
      ]
     },
     "metadata": {
      "needs_background": "light"
     },
     "output_type": "display_data"
    }
   ],
   "source": [
    "profit_catery.plot(kind = \"bar\",  stacked= True, color = ['green'])\n",
    "plt.title(\"top 10 category by profit\")"
   ]
  },
  {
   "cell_type": "code",
   "execution_count": 71,
   "id": "078c3a26",
   "metadata": {},
   "outputs": [
    {
     "name": "stdout",
     "output_type": "stream",
     "text": [
      "                    Discount     Year\n",
      "Sub Category                         \n",
      "Health Drinks         166.49  1450017\n",
      "Soft Drinks           155.97  1373402\n",
      "Cookies               113.72  1048684\n",
      "Breads & Buns         113.70  1012405\n",
      "Chocolates            112.60  1006342\n",
      "Noodles               109.86   998302\n",
      "Masalas               103.65   933749\n",
      "Edible Oil & Ghee     103.51   909537\n",
      "Biscuits              103.29   925642\n",
      "Cakes                 101.54   911535\n",
      "Spices                 98.42   901446\n",
      "Mutton                 89.14   794585\n",
      "Organic Staples        86.02   750242\n",
      "Eggs                   85.69   764351\n",
      "Fish                   84.92   744177\n",
      "Fresh Fruits           83.66   744160\n",
      "Organic Vegetables     81.37   699794\n",
      "Fresh Vegetables       81.30   713904\n",
      "Atta & Flour           80.44   711931\n",
      "Chicken                79.66   701781\n",
      "Organic Fruits         78.81   701854\n",
      "Dals & Pulses          77.51   691770\n",
      "Rice                   75.54   665512\n"
     ]
    }
   ],
   "source": [
    "#total discount by sub-category and year\n",
    "total_disc = ssd.groupby(\"Sub Category\").sum()[[\"Discount\",\"Year\"]].sort_values(ascending = False, by = \"Discount\")\n",
    "print(total_disc)"
   ]
  },
  {
   "cell_type": "code",
   "execution_count": 81,
   "id": "58f5a084",
   "metadata": {},
   "outputs": [
    {
     "data": {
      "text/plain": [
       "Text(0.5, 1.0, 'total discount by sub-category and year')"
      ]
     },
     "execution_count": 81,
     "metadata": {},
     "output_type": "execute_result"
    },
    {
     "data": {
      "image/png": "[encoded data removed]",
      "text/plain": [
       "<Figure size 432x288 with 1 Axes>"
      ]
     },
     "metadata": {
      "needs_background": "light"
     },
     "output_type": "display_data"
    }
   ],
   "source": [
    "total_disc.plot(kind = \"barh\", color = [\"blue\"])\n",
    "plt.title(\"total discount by sub-category and year\")"
   ]
  },
  {
   "cell_type": "code",
   "execution_count": null,
   "id": "2468c49d",
   "metadata": {},
   "outputs": [],
   "source": []
  }
 ],
 "metadata": {
  "kernelspec": {
   "display_name": "Python 3",
   "language": "python",
   "name": "python3"
  },
  "language_info": {
   "codemirror_mode": {
    "name": "ipython",
    "version": 3
   },
   "file_extension": ".py",
   "mimetype": "text/x-python",
   "name": "python",
   "nbconvert_exporter": "python",
   "pygments_lexer": "ipython3",
   "version": "3.8.8"
  }
 },
 "nbformat": 4,
 "nbformat_minor": 5
}
